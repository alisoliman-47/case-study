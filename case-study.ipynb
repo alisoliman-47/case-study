{
 "cells": [
  {
   "cell_type": "code",
   "execution_count": 18,
   "id": "d2cb70f6",
   "metadata": {},
   "outputs": [],
   "source": [
    "# all the imports\n",
    "import os\n",
    "import re\n",
    "import json\n",
    "import math\n",
    "import textwrap\n",
    "import warnings\n",
    "from dataclasses import dataclass\n",
    "import numpy as np\n",
    "import pandas as pd\n",
    "from tqdm.auto import tqdm\n",
    "\n",
    "import s3fs\n",
    "from sklearn.feature_extraction.text import TfidfVectorizer\n",
    "from sklearn.metrics.pairwise import cosine_similarity\n",
    "\n",
    "from sentence_transformers import SentenceTransformer\n",
    "from transformers import pipeline, AutoTokenizer, AutoModelForSeq2SeqLM\n",
    "import io\n"
   ]
  },
  {
   "cell_type": "code",
   "execution_count": 6,
   "id": "3cb9ab75",
   "metadata": {},
   "outputs": [],
   "source": [
    "warnings.filterwarnings(\"ignore\")\n",
    "\n",
    "# --- PARAMETERS YOU MAY TUNE ---\n",
    "SUBSET_MAX_TXT = 80      # keep <100 as requested\n",
    "TOP_K = 12               # top results per query\n",
    "SUMMARY_MAX_WORDS = 70   # aim ~2-3 sentences\n",
    "KEYWORDS_TOP_N = 6\n",
    "\n",
    "# Models (small/CPU-friendly)\n",
    "EMBED_MODEL = \"sentence-transformers/all-MiniLM-L6-v2\"\n",
    "# For summarization we'll try a distilled BART checkpoint fine-tuned for CNN/DM.\n",
    "# If unavailable locally, fallback to t5-small with the \"summarize: \" prefix.\n",
    "SUMM_MODEL_PRIMARY = \"sshleifer/distilbart-cnn-12-6\"\n",
    "SUMM_MODEL_FALLBACK = \"t5-small\"\n",
    "\n",
    "# Optional verifier (zero-shot)\n",
    "ZS_MODEL = \"facebook/bart-large-mnli\"  # ok on CPU for small batches\n",
    "\n",
    "# Themes for optional verifier\n",
    "THEMES = [\"Deep Learning\", \"Clinical Trial\", \"Traditional Methods\"]\n",
    "\n",
    "# Example input queries (from prompt)\n",
    "QUERIES = [\n",
    "    \"Adverse events with mRNA vaccines in pediatrics\",\n",
    "    \"Transformer-based models for protein folding\",\n",
    "    \"Clinical trial outcomes for monoclonal antibodies in oncology\",\n",
    "]"
   ]
  },
  {
   "cell_type": "code",
   "execution_count": 13,
   "id": "c40cca17",
   "metadata": {},
   "outputs": [
    {
     "name": "stdout",
     "output_type": "stream",
     "text": [
      "<s3fs.core.S3FileSystem object at 0x14a3e8830>\n"
     ]
    }
   ],
   "source": [
    "# Public S3 bucket per brief:\n",
    "BUCKET = \"pmc-oa-opendata\"\n",
    "FILELIST_KEY = \"oa_comm/txt/metadata/csv/oa_comm.filelist.csv\"\n",
    "TXT_PREFIX = \"oa_comm/txt/all/\"\n",
    "\n",
    "def get_fs():\n",
    "    # Anonymous access to the public bucket\n",
    "    # If your network blocks anon, set AWS creds and drop anon=True.\n",
    "    try:\n",
    "        return s3fs.S3FileSystem(anon=True)\n",
    "    except Exception:\n",
    "        return s3fs.S3FileSystem(anon=False)\n",
    "\n",
    "fs = get_fs()\n",
    "print(fs)"
   ]
  },
  {
   "cell_type": "code",
   "execution_count": 19,
   "id": "e0df90a2",
   "metadata": {},
   "outputs": [
    {
     "data": {
      "text/plain": [
       "(80,\n",
       " ['s3://pmc-oa-opendata/oa_comm/txt/all/PMC6078067.txt',\n",
       "  's3://pmc-oa-opendata/oa_comm/txt/all/PMC11010288.txt',\n",
       "  's3://pmc-oa-opendata/oa_comm/txt/all/PMC6345036.txt'])"
      ]
     },
     "execution_count": 19,
     "metadata": {},
     "output_type": "execute_result"
    }
   ],
   "source": [
    "def load_filelist_sample_robust(max_txt=SUBSET_MAX_TXT, seed=7):\n",
    "    s3_url = f\"s3://{BUCKET}/{FILELIST_KEY}\"\n",
    "    with fs.open(s3_url, \"rb\") as f:\n",
    "        raw = f.read()\n",
    "\n",
    "    # Try to parse as a regular CSV with unknown columns\n",
    "    df_try = pd.read_csv(io.BytesIO(raw), dtype=str, low_memory=False)\n",
    "\n",
    "    candidates = []\n",
    "\n",
    "    def collect_from_series(series):\n",
    "        vals = series.dropna().astype(str)\n",
    "        # accept relative keys or full s3 URIs; match .../oa_comm/txt/all/....txt\n",
    "        mask = vals.str.contains(r\"oa_comm/txt/all/.+\\.txt\", regex=True)\n",
    "        return vals[mask].tolist()\n",
    "\n",
    "    # scan all columns if tabular\n",
    "    for col in df_try.columns:\n",
    "        candidates.extend(collect_from_series(df_try[col]))\n",
    "\n",
    "    # last-resort: regex scan the raw text (handles odd formats)\n",
    "    if not candidates:\n",
    "        txt = raw.decode(\"utf-8\", errors=\"ignore\")\n",
    "        found = re.findall(r\"(?:s3://pmc-oa-opendata/)?oa_comm/txt/all/[^\\s,]+?\\.txt\", txt)\n",
    "        candidates.extend(found)\n",
    "\n",
    "    # Normalize to s3:// paths\n",
    "    s3_paths = [\n",
    "        x if x.startswith(\"s3://\") else f\"s3://{BUCKET}/{x.lstrip('/')}\"\n",
    "        for x in pd.Series(candidates).drop_duplicates().tolist()\n",
    "    ]\n",
    "\n",
    "    if not s3_paths:\n",
    "        return []\n",
    "\n",
    "    sample = pd.Series(s3_paths).sample(\n",
    "        n=min(len(s3_paths), max_txt),\n",
    "        random_state=seed\n",
    "    ).tolist()\n",
    "    return sample\n",
    "\n",
    "sample_paths = load_filelist_sample_robust()\n",
    "len(sample_paths), sample_paths[:3]\n"
   ]
  }
 ],
 "metadata": {
  "kernelspec": {
   "display_name": ".venv",
   "language": "python",
   "name": "python3"
  },
  "language_info": {
   "codemirror_mode": {
    "name": "ipython",
    "version": 3
   },
   "file_extension": ".py",
   "mimetype": "text/x-python",
   "name": "python",
   "nbconvert_exporter": "python",
   "pygments_lexer": "ipython3",
   "version": "3.13.4"
  }
 },
 "nbformat": 4,
 "nbformat_minor": 5
}
